{
 "cells": [
  {
   "cell_type": "markdown",
   "metadata": {
    "deletable": true,
    "editable": true
   },
   "source": [
    "# Danylo's Productivity Tools\n",
    "\n",
    "A solid set of tools can help one be the most productive in their work. This is my set of tools tailored to making me the most productive thoughout the day.\n",
    "\n",
    "## System\n",
    "\n",
    "- **OS**: <img src=\"images/ubuntu.png\" width=\"30px\" align=\"middle\" style=\"display: inline; margin-top: 0;\"> [Ubuntu 14.04.5 LTS](http://releases.ubuntu.com/14.04/)\n",
    "- **Virtualization**: <img src=\"images/vmware_player.png\" width=\"30px\" align=\"middle\" style=\"display: inline; margin-top: 0;\"> [VMware Workstation Player](http://www.vmware.com/products/player/playerpro-evaluation.html)\n",
    "- **Dotfiles**: <img src=\"images/dotfiles.png\" width=\"30px\" align=\"middle\" style=\"display: inline; margin-top: 0;\"> [My dotfiles](https://github.com/dmalyuta/dotfiles)\n",
    "\n",
    "## Programming\n",
    "\n",
    "- **C++**: <img src=\"images/clion.png\" width=\"30px\" align=\"middle\" style=\"display: inline; margin-top: 0;\"> [CLion](https://www.jetbrains.com/clion/), <img src=\"images/eclipse_cdt.png\" width=\"30px\" align=\"middle\" style=\"display: inline; margin-top: 0;\"> [Eclipse CDT](https://www.eclipse.org/), <img src=\"images/emacs.png\" width=\"30px\" align=\"middle\" style=\"display: inline; margin-top: 0;\"> [Emacs](https://www.gnu.org/software/emacs/)\n",
    "- **Python**: <img src=\"images/pycharm.png\" width=\"30px\" align=\"middle\" style=\"display: inline; margin-top: 0;\"> [PyCharm](https://www.jetbrains.com/pycharm/)\n",
    "- **Scientific**: <img src=\"images/matlab.png\" width=\"30px\" align=\"middle\" style=\"display: inline; margin-top: 0;\"> [MATLAB](https://www.mathworks.com/), <img src=\"images/simulink.png\" width=\"30px\" align=\"middle\" style=\"display: inline; margin-top: 0;\">[Simulink](https://www.mathworks.com/products/simulink.html)\n",
    "- **Text Editing**: <img src=\"images/sublime.png\" width=\"30px\" align=\"middle\" style=\"display: inline; margin-top: 0;\"> [Sublime Text](https://www.sublimetext.com/), <img src=\"images/emacs.png\" width=\"30px\" align=\"middle\" style=\"display: inline; margin-top: 0;\"> [Emacs](https://www.gnu.org/software/emacs/)\n",
    "- **Version Control**: <img src=\"images/github.png\" width=\"30px\" align=\"middle\" style=\"display: inline; margin-top: 0;\"> [GitHub](https://github.com/), <img src=\"images/smartgit.png\" width=\"30px\" align=\"middle\" style=\"display: inline; margin-top: 0;\">[SmartGit](http://www.syntevo.com/smartgit/)\n",
    "- **Collaboration/Team Work**: <img src=\"images/youtrack.png\" width=\"30px\" align=\"middle\" style=\"display: inline; margin-top: 0;\"> [YouTrack](https://www.jetbrains.com/youtrack/)\n",
    "\n",
    "## Internet\n",
    "\n",
    "- **Browser**: <img src=\"images/chrome.png\" width=\"30px\" align=\"middle\" style=\"display: inline; margin-top: 0;\"> [Google Chrome](https://www.google.com/chrome/)\n",
    "- **Cloud Storage**:  <img src=\"images/dropbox.png\" width=\"30px\" align=\"middle\" style=\"display: inline; margin-top: 0;\"> [Dropbox](https://www.dropbox.com)\n",
    "- **Collaboration**: <img src=\"images/docs.png\" width=\"30px\" align=\"middle\" style=\"display: inline; margin-top: 0;\"> [Google Docs, Sheets and Slides](https://www.google.com/docs/about/), <img src=\"images/sketchboard.png\" width=\"30px\" align=\"middle\" style=\"display: inline; margin-top: 0;\"> [sketchboard.io](https://sketchboard.io/)\n",
    "\n",
    "## Creative\n",
    "\n",
    "- **Drawing**: <img src=\"images/inkscape.png\" width=\"30px\" align=\"middle\" style=\"display: inline; margin-top: 0;\"> [Inkscape](https://inkscape.org/en/), <img src=\"images/drawio.png\" width=\"30px\" align=\"middle\" style=\"display: inline; margin-top: 0;\"> [draw.io](https://www.draw.io/)\n",
    "\n",
    "## Writing\n",
    "\n",
    "- **Thinking**: <img src=\"images/bic.png\" width=\"50px\" align=\"middle\" style=\"display: inline; margin-top: 0;\"> [BIC pen](https://en.wikipedia.org/wiki/Bic_Cristal) and paper\n",
    "- **Quick documents**: <img src=\"images/libreoffice.png\" width=\"30px\" align=\"middle\" style=\"display: inline; margin-top: 0;\"> [LibreOffice suite](https://www.libreoffice.org/)\n",
    "- **Professional/Academic**: $\\LaTeX$ with <img src=\"images/eclipse.png\" width=\"30px\" align=\"middle\" style=\"display: inline; margin-top: 0;\"> [TeXlipse](http://texlipse.sourceforge.net/)\n",
    "\n",
    "## Other tools\n",
    "\n",
    "### Robotics\n",
    "\n",
    "- **Frameworks**: <img src=\"images/ROS.png\" width=\"30px\" align=\"middle\" style=\"display: inline; margin-top: 0;\"> [ROS](http://www.ros.org/)"
   ]
  }
 ],
 "metadata": {
  "kernelspec": {
   "display_name": "Python 2",
   "language": "python",
   "name": "python2"
  },
  "language_info": {
   "codemirror_mode": {
    "name": "ipython",
    "version": 2
   },
   "file_extension": ".py",
   "mimetype": "text/x-python",
   "name": "python",
   "nbconvert_exporter": "python",
   "pygments_lexer": "ipython2",
   "version": "2.7.6"
  }
 },
 "nbformat": 4,
 "nbformat_minor": 2
}
